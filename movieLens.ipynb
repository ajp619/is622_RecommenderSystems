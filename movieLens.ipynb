{
 "cells": [
  {
   "cell_type": "markdown",
   "metadata": {},
   "source": [
    "# Recommender System Using Movie Lens Data\n",
    "\n",
    "Aaron Palumbo | IS622  \n",
    "November 15, 2015  "
   ]
  },
  {
   "cell_type": "markdown",
   "metadata": {},
   "source": [
    "## Objective"
   ]
  },
  {
   "cell_type": "markdown",
   "metadata": {
    "collapsed": true
   },
   "source": [
    "I decided to use the [MovieLens](http://grouplens.org/datasets/movielens/) dataset, which I found a reference to [here](https://gist.github.com/entaroadun/1653794).  \n",
    "\n",
    "While looking for references to collaborative filtering I came across [this](https://databricks-training.s3.amazonaws.com/movie-recommendation-with-mllib.html) tutorial from databricks and [this](http://spark.apache.org/docs/latest/mllib-collaborative-filtering.html#collaborative-filtering) example from the spark mllib collaborative filtering page. I will leverage both of these for my analysis. My goal is to first duplicate what they did, then if there is time after that, to extend it in some way. "
   ]
  },
  {
   "cell_type": "markdown",
   "metadata": {},
   "source": [
    "## Dependencies"
   ]
  },
  {
   "cell_type": "code",
   "execution_count": 1,
   "metadata": {
    "collapsed": false
   },
   "outputs": [],
   "source": [
    "import pandas as pd\n",
    "import numpy as np\n",
    "import os\n",
    "from math import sqrt\n",
    "import matplotlib.pyplot as plt\n",
    "\n",
    "from pyspark.mllib.recommendation import \\\n",
    "    ALS, MatrixFactorizationModel, Rating\n",
    "    \n",
    "from sklearn.cross_validation import KFold\n",
    "\n",
    "%matplotlib inline"
   ]
  },
  {
   "cell_type": "markdown",
   "metadata": {},
   "source": [
    "## Data"
   ]
  },
  {
   "cell_type": "markdown",
   "metadata": {},
   "source": [
    "Important information from the README:"
   ]
  },
  {
   "cell_type": "code",
   "execution_count": 2,
   "metadata": {
    "collapsed": false
   },
   "outputs": [],
   "source": [
    "%%capture\n",
    "# discard print output\n",
    "print \\\n",
    "\"\"\"\n",
    "This data set consists of:\n",
    "        * 100,000 ratings (1-5) from 943 users on 1682 movies.\n",
    "        * Each user has rated at least 20 movies.\n",
    "        * Simple demographic info for the users (age, gender, occupation, zip)\n",
    "\n",
    "<...cut...>\n",
    "\n",
    "DETAILED DESCRIPTIONS OF DATA FILES\n",
    "==============================================\n",
    "\n",
    "Here are brief descriptions of the data.\n",
    "\n",
    "ml-data.tar.gz   -- Compressed tar file.  To rebuild the u data files do this:\n",
    "                gunzip ml-data.tar.gz\n",
    "                tar xvf ml-data.tar\n",
    "                mku.sh\n",
    "\n",
    "u.data     -- The full u data set, 100000 ratings by 943 users on 1682 items.\n",
    "              Each user has rated at least 20 movies.  Users and items are\n",
    "              numbered consecutively from 1.  The data is randomly\n",
    "              ordered. This is a tab separated list of\n",
    "                 user id | item id | rating | timestamp.\n",
    "              The time stamps are unix seconds since 1/1/1970 UTC\n",
    "\n",
    "u.info     -- The number of users, items, and ratings in the u data set.\n",
    "\n",
    "u.item     -- Information about the items (movies); this is a tab separated\n",
    "              list of\n",
    "              movie id | movie title | release date | video release date |\n",
    "              IMDb URL | unknown | Action | Adventure | Animation |\n",
    "              Children's | Comedy | Crime | Documentary | Drama | Fantasy |\n",
    "              Film-Noir | Horror | Musical | Mystery | Romance | Sci-Fi |\n",
    "              Thriller | War | Western |\n",
    "              The last 19 fields are the genres, a 1 indicates the movie\n",
    "              is of that genre, a 0 indicates it is not; movies can be in\n",
    "              several genres at once.\n",
    "              The movie ids are the ones used in the u.data data set.\n",
    "\n",
    "u.genre    -- A list of the genres.\n",
    "\n",
    "u.user     -- Demographic information about the users; this is a tab\n",
    "              separated list of\n",
    "              user id | age | gender | occupation | zip code\n",
    "              The user ids are the ones used in the u.data data set.\n",
    "\n",
    "u.occupation -- A list of the occupations.\n",
    "\n",
    "u1.base    -- The data sets u1.base and u1.test through u5.base and u5.test\n",
    "u1.test       are 80%/20% splits of the u data into training and test data.\n",
    "u2.base       Each of u1, ..., u5 have disjoint test sets; this if for\n",
    "u2.test       5 fold cross validation (where you repeat your experiment\n",
    "u3.base       with each training and test set and average the results).\n",
    "u3.test       These data sets can be generated from u.data by mku.sh.\n",
    "u4.base\n",
    "u4.test\n",
    "u5.base\n",
    "u5.test\n",
    "\n",
    "ua.base    -- The data sets ua.base, ua.test, ub.base, and ub.test\n",
    "ua.test       split the u data into a training set and a test set with\n",
    "ub.base       exactly 10 ratings per user in the test set.  The sets\n",
    "ub.test       ua.test and ub.test are disjoint.  These data sets can\n",
    "              be generated from u.data by mku.sh.\n",
    "\n",
    "allbut.pl  -- The script that generates training and test sets where\n",
    "              all but n of a users ratings are in the training data.\n",
    "\n",
    "mku.sh     -- A shell script to generate all the u data sets from u.data.\n",
    "\n",
    "\"\"\"  "
   ]
  },
  {
   "cell_type": "markdown",
   "metadata": {},
   "source": [
    "The data are small enough that we can take a look at what we have in main memory."
   ]
  },
  {
   "cell_type": "code",
   "execution_count": 3,
   "metadata": {
    "collapsed": false
   },
   "outputs": [],
   "source": [
    "df = pd.read_csv(\"data/ml-100k/u.data\", sep=\"\\t\", \n",
    "                 header=0,\n",
    "                 names=[\"userId\", \"itemId\", \"rating\", \"timestamp\"])"
   ]
  },
  {
   "cell_type": "code",
   "execution_count": 4,
   "metadata": {
    "collapsed": false
   },
   "outputs": [
    {
     "data": {
      "text/html": [
       "<div>\n",
       "<table border=\"1\" class=\"dataframe\">\n",
       "  <thead>\n",
       "    <tr style=\"text-align: right;\">\n",
       "      <th></th>\n",
       "      <th>userId</th>\n",
       "      <th>itemId</th>\n",
       "      <th>rating</th>\n",
       "      <th>timestamp</th>\n",
       "    </tr>\n",
       "  </thead>\n",
       "  <tbody>\n",
       "    <tr>\n",
       "      <th>0</th>\n",
       "      <td>186</td>\n",
       "      <td>302</td>\n",
       "      <td>3</td>\n",
       "      <td>891717742</td>\n",
       "    </tr>\n",
       "    <tr>\n",
       "      <th>1</th>\n",
       "      <td>22</td>\n",
       "      <td>377</td>\n",
       "      <td>1</td>\n",
       "      <td>878887116</td>\n",
       "    </tr>\n",
       "    <tr>\n",
       "      <th>2</th>\n",
       "      <td>244</td>\n",
       "      <td>51</td>\n",
       "      <td>2</td>\n",
       "      <td>880606923</td>\n",
       "    </tr>\n",
       "    <tr>\n",
       "      <th>3</th>\n",
       "      <td>166</td>\n",
       "      <td>346</td>\n",
       "      <td>1</td>\n",
       "      <td>886397596</td>\n",
       "    </tr>\n",
       "    <tr>\n",
       "      <th>4</th>\n",
       "      <td>298</td>\n",
       "      <td>474</td>\n",
       "      <td>4</td>\n",
       "      <td>884182806</td>\n",
       "    </tr>\n",
       "  </tbody>\n",
       "</table>\n",
       "</div>"
      ],
      "text/plain": [
       "   userId  itemId  rating  timestamp\n",
       "0     186     302       3  891717742\n",
       "1      22     377       1  878887116\n",
       "2     244      51       2  880606923\n",
       "3     166     346       1  886397596\n",
       "4     298     474       4  884182806"
      ]
     },
     "execution_count": 4,
     "metadata": {},
     "output_type": "execute_result"
    }
   ],
   "source": [
    "df.head()"
   ]
  },
  {
   "cell_type": "markdown",
   "metadata": {},
   "source": [
    "Now we load the data into a Spark RDD."
   ]
  },
  {
   "cell_type": "code",
   "execution_count": 5,
   "metadata": {
    "collapsed": false
   },
   "outputs": [],
   "source": [
    "# Load the data\n",
    "data = sc.textFile(\"file://\" + os.getcwd() + \"/data/ml-100k/u.data\")\n",
    "ratings = data.map(lambda l: l.split()).map(lambda l: Rating(int(l[0]), int(l[1]), int(l[2])))"
   ]
  },
  {
   "cell_type": "markdown",
   "metadata": {},
   "source": [
    "## Initial model evaluation"
   ]
  },
  {
   "cell_type": "code",
   "execution_count": 6,
   "metadata": {
    "collapsed": false
   },
   "outputs": [
    {
     "name": "stdout",
     "output_type": "stream",
     "text": [
      "Root Mean Squared Error = 0.695499391505\n"
     ]
    }
   ],
   "source": [
    "# Build the recommendation model using Alternating Least Squares\n",
    "rank = 10\n",
    "numIterations = 10\n",
    "model = ALS.train(ratings, rank, numIterations)\n",
    "\n",
    "# Evaluate the model on training data\n",
    "testdata = ratings.map(lambda p: (p[0], p[1]))\n",
    "predictions = model.predictAll(testdata).map(lambda r: ((r[0], r[1]), r[2]))\n",
    "ratesAndPreds = ratings.map(lambda r: ((r[0], r[1]), r[2])).join(predictions)\n",
    "MSE = ratesAndPreds.map(lambda r: (r[1][0] - r[1][1])**2).mean()\n",
    "\n",
    "print(\"Root Mean Squared Error = \" + str(sqrt(MSE)))"
   ]
  },
  {
   "cell_type": "markdown",
   "metadata": {},
   "source": [
    "## Model Tuning"
   ]
  },
  {
   "cell_type": "markdown",
   "metadata": {},
   "source": [
    "There are two parameters we can tune in this model: rank and number of iterations. Let's try to find out what effect those have. We will use k-fold cross validation to compute the RMSE."
   ]
  },
  {
   "cell_type": "code",
   "execution_count": 8,
   "metadata": {
    "collapsed": false
   },
   "outputs": [
    {
     "name": "stdout",
     "output_type": "stream",
     "text": [
      "(5, 5)\n",
      "(5, 10)\n",
      "(5, 20)\n",
      "(10, 5)\n",
      "(10, 10)\n",
      "(10, 20)\n",
      "(20, 5)\n",
      "(20, 10)\n",
      "(20, 20)\n"
     ]
    }
   ],
   "source": [
    "rankList = [5, 10, 20]\n",
    "numIterationsList = [5, 10, 20]\n",
    "\n",
    "kfold = 5\n",
    "\n",
    "splits = ratings.randomSplit([1.0/kfold] * kfold, seed=1)\n",
    "\n",
    "def evaluateModel(train, test, rank, numIterations):\n",
    "    model = ALS.train(train, rank, numIterations)\n",
    "    testdata = test.map(lambda p: (p[0], p[1]))\n",
    "    predictions = model.predictAll(testdata).map(lambda r: ((r[0], r[1]), r[2]))\n",
    "    comparePreds = test.map(lambda r: ((r[0], r[1]), r[2])).join(predictions)\n",
    "    MSE = comparePreds.map(lambda r: (r[1][0] - r[1][1])**2).mean()\n",
    "    RMSE = sqrt(MSE)\n",
    "    return RMSE\n",
    "\n",
    "resultsMSE = {}\n",
    "for rank in rankList:\n",
    "    for numIterations in numIterationsList:\n",
    "        print (rank, numIterations)\n",
    "        resultsMSE[(rank, numIterations)] = []\n",
    "        results = resultsMSE[(rank, numIterations)]\n",
    "        for k in range(kfold):\n",
    "            test = splits[k]\n",
    "            trainIndex = [i for i in range(kfold) if i != k]\n",
    "            train = splits[trainIndex[0]]\n",
    "            for i in trainIndex[1:]:\n",
    "                train += splits[i]\n",
    "            results.append(evaluateModel(train, test, rank, numIterations))\n",
    "\n",
    "\n",
    "        "
   ]
  },
  {
   "cell_type": "code",
   "execution_count": 9,
   "metadata": {
    "collapsed": false
   },
   "outputs": [
    {
     "data": {
      "text/plain": [
       "<matplotlib.legend.Legend at 0x7f003bcc7350>"
      ]
     },
     "execution_count": 9,
     "metadata": {},
     "output_type": "execute_result"
    },
    {
     "data": {
      "image/png": "[encoded data removed]",
      "text/plain": [
       "<matplotlib.figure.Figure at 0x7f003bd13f50>"
      ]
     },
     "metadata": {},
     "output_type": "display_data"
    }
   ],
   "source": [
    "summary = pd.DataFrame(resultsMSE.keys())\n",
    "summary.columns = [\"rank\", \"iter\"]\n",
    "\n",
    "summary[\"rmse\"] = [np.array(i).mean() for i in resultsMSE.values()]\n",
    "summary = summary.sort(\"iter\")\n",
    "\n",
    "fig, ax = plt.subplots(figsize=(10, 6))\n",
    "for r in rankList:\n",
    "    df = summary[summary[\"rank\"] == r]\n",
    "    ax.plot(df.iter, df.rmse, label=\"rank = \" + str(r))\n",
    "ax.set_xlabel(\"Iterations\")\n",
    "ax.set_ylabel(\"RMSE\")\n",
    "plt.legend(loc=2)"
   ]
  },
  {
   "cell_type": "markdown",
   "metadata": {},
   "source": [
    "We see from the above figure that the best combination of parameters appears to be low rank and low iterations. This result really isn't what I would have expected. "
   ]
  }
 ],
 "metadata": {
  "kernelspec": {
   "display_name": "Python 2",
   "language": "python",
   "name": "python2"
  },
  "language_info": {
   "codemirror_mode": {
    "name": "ipython",
    "version": 2
   },
   "file_extension": ".py",
   "mimetype": "text/x-python",
   "name": "python",
   "nbconvert_exporter": "python",
   "pygments_lexer": "ipython2",
   "version": "2.7.10"
  }
 },
 "nbformat": 4,
 "nbformat_minor": 0
}
